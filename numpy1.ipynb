{
  "nbformat": 4,
  "nbformat_minor": 0,
  "metadata": {
    "colab": {
      "name": "numpy1.ipynb",
      "provenance": [],
      "collapsed_sections": [],
      "authorship_tag": "ABX9TyONYyzKkUkoWNM6Xu9RPVCD",
      "include_colab_link": true
    },
    "kernelspec": {
      "name": "python3",
      "display_name": "Python 3"
    },
    "language_info": {
      "name": "python"
    }
  },
  "cells": [
    {
      "cell_type": "markdown",
      "metadata": {
        "id": "view-in-github",
        "colab_type": "text"
      },
      "source": [
        "<a href=\"https://colab.research.google.com/github/SachiSachu/1stop/blob/main/numpy1.ipynb\" target=\"_parent\"><img src=\"https://colab.research.google.com/assets/colab-badge.svg\" alt=\"Open In Colab\"/></a>"
      ]
    },
    {
      "cell_type": "code",
      "metadata": {
        "id": "Iiv7pR82tt00"
      },
      "source": [
        "import numpy as np\n",
        "#import pandas as pd"
      ],
      "execution_count": 2,
      "outputs": []
    },
    {
      "cell_type": "code",
      "metadata": {
        "id": "XMMyikWwt6x0",
        "colab": {
          "base_uri": "https://localhost:8080/"
        },
        "outputId": "2b7225e1-f549-4345-f63c-faa57e44165d"
      },
      "source": [
        "dt = np.dtype(np.int32) #int8, int16, int32, int64 are equal to i1, i2, i3, i4\n",
        "dt"
      ],
      "execution_count": 4,
      "outputs": [
        {
          "output_type": "execute_result",
          "data": {
            "text/plain": [
              "dtype('int32')"
            ]
          },
          "metadata": {},
          "execution_count": 4
        }
      ]
    },
    {
      "cell_type": "code",
      "metadata": {
        "id": "7c9GSgzPt_cu",
        "colab": {
          "base_uri": "https://localhost:8080/"
        },
        "outputId": "4802e144-67f7-47f7-e3bc-c88ad51ff903"
      },
      "source": [
        "#endian data types\n",
        "dp = np.dtype([('age', np.int8)])\n",
        "dp"
      ],
      "execution_count": 7,
      "outputs": [
        {
          "output_type": "execute_result",
          "data": {
            "text/plain": [
              "dtype([('age', 'i1')])"
            ]
          },
          "metadata": {},
          "execution_count": 7
        }
      ]
    },
    {
      "cell_type": "code",
      "metadata": {
        "colab": {
          "base_uri": "https://localhost:8080/"
        },
        "id": "VA02sWzKWPSL",
        "outputId": "cb118b7b-c496-4f76-dda0-bd3ccb4771c2"
      },
      "source": [
        "#applying to ndarray\n",
        "dat = np.array([10,20,30], dtype=dt)\n",
        "dat"
      ],
      "execution_count": 10,
      "outputs": [
        {
          "output_type": "execute_result",
          "data": {
            "text/plain": [
              "array([10, 20, 30], dtype=int32)"
            ]
          },
          "metadata": {},
          "execution_count": 10
        }
      ]
    },
    {
      "cell_type": "code",
      "metadata": {
        "colab": {
          "base_uri": "https://localhost:8080/"
        },
        "id": "gX7Rt_XHW2So",
        "outputId": "1f43b482-8640-4efa-dd38-02f2dd6bf3fb"
      },
      "source": [
        "#2 dimensional array\n",
        "#we have a nested list\n",
        "a = [[1,2,3],[4,5,6],[7,8,9]] \n",
        "a"
      ],
      "execution_count": 12,
      "outputs": [
        {
          "output_type": "execute_result",
          "data": {
            "text/plain": [
              "[[1, 2, 3], [4, 5, 6], [7, 8, 9]]"
            ]
          },
          "metadata": {},
          "execution_count": 12
        }
      ]
    },
    {
      "cell_type": "code",
      "metadata": {
        "colab": {
          "base_uri": "https://localhost:8080/"
        },
        "id": "sqvBHckoX1sj",
        "outputId": "e1733012-7ecc-4be6-f290-5e8c9a3fb106"
      },
      "source": [
        "#now converting into 2d array\n",
        "a = np.array(a)\n",
        "a"
      ],
      "execution_count": 19,
      "outputs": [
        {
          "output_type": "execute_result",
          "data": {
            "text/plain": [
              "array([[1, 2, 3],\n",
              "       [4, 5, 6],\n",
              "       [7, 8, 9]])"
            ]
          },
          "metadata": {},
          "execution_count": 19
        }
      ]
    },
    {
      "cell_type": "code",
      "metadata": {
        "colab": {
          "base_uri": "https://localhost:8080/"
        },
        "id": "OEhxqUZGYEWx",
        "outputId": "c37ece94-4ecf-4513-979c-5497cbcd0f30"
      },
      "source": [
        "#writing above array as complex data types\n",
        "np.array(a, dtype=complex)"
      ],
      "execution_count": 15,
      "outputs": [
        {
          "output_type": "execute_result",
          "data": {
            "text/plain": [
              "array([[1.+0.j, 2.+0.j, 3.+0.j],\n",
              "       [4.+0.j, 5.+0.j, 6.+0.j],\n",
              "       [7.+0.j, 8.+0.j, 9.+0.j]])"
            ]
          },
          "metadata": {},
          "execution_count": 15
        }
      ]
    },
    {
      "cell_type": "code",
      "metadata": {
        "colab": {
          "base_uri": "https://localhost:8080/"
        },
        "id": "iY9VAXuQY_vR",
        "outputId": "1d77fc2f-1d96-451a-ffc6-4fe07189d547"
      },
      "source": [
        "#attributes\n",
        "#to know the size of matrix we use shape\n",
        "a.shape"
      ],
      "execution_count": 20,
      "outputs": [
        {
          "output_type": "execute_result",
          "data": {
            "text/plain": [
              "(3, 3)"
            ]
          },
          "metadata": {},
          "execution_count": 20
        }
      ]
    },
    {
      "cell_type": "code",
      "metadata": {
        "colab": {
          "base_uri": "https://localhost:8080/"
        },
        "id": "QkrWwDO6ZpxW",
        "outputId": "a174316d-0356-44b2-b54e-9a4e557e2d06"
      },
      "source": [
        "#reshaping it and should follow m x n = m' x n' == number of elements\n",
        "b = np.array([[1,2,3],[3,4,1]])\n",
        "print(b)\n",
        "print(b.shape)\n",
        "#converting it to 3,2 shape\n",
        "b.shape=(3,2)\n",
        "b"
      ],
      "execution_count": 26,
      "outputs": [
        {
          "output_type": "stream",
          "name": "stdout",
          "text": [
            "[[1 2 3]\n",
            " [3 4 1]]\n",
            "(2, 3)\n"
          ]
        },
        {
          "output_type": "execute_result",
          "data": {
            "text/plain": [
              "array([[1, 2],\n",
              "       [3, 3],\n",
              "       [4, 1]])"
            ]
          },
          "metadata": {},
          "execution_count": 26
        }
      ]
    },
    {
      "cell_type": "code",
      "metadata": {
        "colab": {
          "base_uri": "https://localhost:8080/"
        },
        "id": "u2_MbnlyaIqH",
        "outputId": "72ee2aa5-3d56-466a-f622-8be39d14a3f5"
      },
      "source": [
        "#to arrange elements\n",
        "z = np.arange(24)\n",
        "print(z.shape)#one dimensional array from 0 to 24\n",
        "z.shape = (4,6)\n",
        "print('***********************************')\n",
        "print(z)\n",
        "#gcd of fact of 24 are 2,3,4\n",
        "y = np.arange(24)\n",
        "y.shape = (2,3,4)\n",
        "print('***********************************')\n",
        "y"
      ],
      "execution_count": 36,
      "outputs": [
        {
          "output_type": "stream",
          "name": "stdout",
          "text": [
            "(24,)\n",
            "***********************************\n",
            "[[ 0  1  2  3  4  5]\n",
            " [ 6  7  8  9 10 11]\n",
            " [12 13 14 15 16 17]\n",
            " [18 19 20 21 22 23]]\n",
            "***********************************\n"
          ]
        },
        {
          "output_type": "execute_result",
          "data": {
            "text/plain": [
              "array([[[ 0,  1,  2,  3],\n",
              "        [ 4,  5,  6,  7],\n",
              "        [ 8,  9, 10, 11]],\n",
              "\n",
              "       [[12, 13, 14, 15],\n",
              "        [16, 17, 18, 19],\n",
              "        [20, 21, 22, 23]]])"
            ]
          },
          "metadata": {},
          "execution_count": 36
        }
      ]
    },
    {
      "cell_type": "code",
      "metadata": {
        "colab": {
          "base_uri": "https://localhost:8080/"
        },
        "id": "uIMp2KHgbthj",
        "outputId": "e474820c-818c-40b9-d818-0cc5c0d48d57"
      },
      "source": [
        "#numpy Math\n",
        "import math as m\n",
        "#floor value of 7.3\n",
        "print(m.floor(7.3))\n",
        "\n",
        "#square root\n",
        "print(m.sqrt(3))\n",
        "\n",
        "#ceil value \n",
        "print(m.ceil(7.3))\n",
        "\n",
        "#trigonometric values\n",
        "print(m.sin(3))"
      ],
      "execution_count": 43,
      "outputs": [
        {
          "output_type": "stream",
          "name": "stdout",
          "text": [
            "7\n",
            "1.7320508075688772\n",
            "8\n",
            "0.1411200080598672\n"
          ]
        }
      ]
    },
    {
      "cell_type": "code",
      "metadata": {
        "colab": {
          "base_uri": "https://localhost:8080/"
        },
        "id": "R5fQTujQdp4i",
        "outputId": "ca84f390-a45b-41cc-d135-766e1a882960"
      },
      "source": [
        "arr = np.array([1,2,3,4,5])\n",
        "srt = arr + 5\n",
        "srt"
      ],
      "execution_count": 48,
      "outputs": [
        {
          "output_type": "execute_result",
          "data": {
            "text/plain": [
              "array([ 6,  7,  8,  9, 10])"
            ]
          },
          "metadata": {},
          "execution_count": 48
        }
      ]
    },
    {
      "cell_type": "markdown",
      "metadata": {
        "id": "mqbl-BGQgjjK"
      },
      "source": [
        "numpy operations"
      ]
    },
    {
      "cell_type": "code",
      "metadata": {
        "colab": {
          "base_uri": "https://localhost:8080/"
        },
        "id": "OWrQDJryfJuk",
        "outputId": "bb6bba9a-0cef-4f22-a5d6-0a482e81fdd6"
      },
      "source": [
        "a = np.array([1,2,3,4,5])\n",
        "b = np.array([9,8,7,6,5])\n",
        "print(a+5) # instead + you can use any operations\n",
        "print(b+4)\n",
        "a+b"
      ],
      "execution_count": 51,
      "outputs": [
        {
          "output_type": "stream",
          "name": "stdout",
          "text": [
            "[ 6  7  8  9 10]\n",
            "[13 12 11 10  9]\n"
          ]
        },
        {
          "output_type": "execute_result",
          "data": {
            "text/plain": [
              "array([10, 10, 10, 10, 10])"
            ]
          },
          "metadata": {},
          "execution_count": 51
        }
      ]
    },
    {
      "cell_type": "code",
      "metadata": {
        "colab": {
          "base_uri": "https://localhost:8080/"
        },
        "id": "E2wsrZZ0g9rt",
        "outputId": "0476b998-6129-4abb-dde3-41f17bbebf57"
      },
      "source": [
        "a.mean()"
      ],
      "execution_count": 53,
      "outputs": [
        {
          "output_type": "execute_result",
          "data": {
            "text/plain": [
              "3.0"
            ]
          },
          "metadata": {},
          "execution_count": 53
        }
      ]
    },
    {
      "cell_type": "code",
      "metadata": {
        "colab": {
          "base_uri": "https://localhost:8080/"
        },
        "id": "VfjK7J4Xhi7H",
        "outputId": "b3d4b696-75de-4bce-d8dc-4afcadcd8198"
      },
      "source": [
        "a.sum()"
      ],
      "execution_count": 54,
      "outputs": [
        {
          "output_type": "execute_result",
          "data": {
            "text/plain": [
              "15"
            ]
          },
          "metadata": {},
          "execution_count": 54
        }
      ]
    },
    {
      "cell_type": "code",
      "metadata": {
        "id": "uJIRMo7fheqo"
      },
      "source": [
        ""
      ],
      "execution_count": null,
      "outputs": []
    }
  ]
}